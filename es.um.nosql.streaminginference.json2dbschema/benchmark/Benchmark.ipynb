{
 "cells": [
  {
   "cell_type": "markdown",
   "metadata": {},
   "source": [
    "# Pruebas de rendimiento sobre Streaming Inference"
   ]
  },
  {
   "cell_type": "markdown",
   "metadata": {},
   "source": [
    "Es necesario tener instalada la versión de java 1.8:"
   ]
  },
  {
   "cell_type": "code",
   "execution_count": 1,
   "metadata": {},
   "outputs": [
    {
     "name": "stderr",
     "output_type": "stream",
     "text": [
      "java version \"1.8.0_171\"\n",
      "Java(TM) SE Runtime Environment (build 1.8.0_171-b11)\n",
      "Java HotSpot(TM) 64-Bit Server VM (build 25.171-b11, mixed mode)\n"
     ]
    }
   ],
   "source": [
    "%%bash\n",
    "java -version"
   ]
  },
  {
   "cell_type": "markdown",
   "metadata": {},
   "source": [
    "También es necesario tener añadida al PATH la carpeta bin de spark 2.2.1 para hadoop 2.7 o posterior ([descarga](https://spark.apache.org/downloads.html))."
   ]
  },
  {
   "cell_type": "code",
   "execution_count": 44,
   "metadata": {},
   "outputs": [],
   "source": [
    "import pandas as pd\n",
    "import seaborn as sns\n",
    "from matplotlib import pylab\n",
    "import numpy as np\n",
    "pylab.rcParams['figure.figsize'] = (16.0, 8.0)\n",
    "sns.set(style=\"whitegrid\")"
   ]
  },
  {
   "cell_type": "markdown",
   "metadata": {},
   "source": [
    "## Creación de las colecciones de test"
   ]
  },
  {
   "cell_type": "markdown",
   "metadata": {},
   "source": [
    "Esta función crea en la carpeta input una lista de archivos json con colecciones de elementos:"
   ]
  },
  {
   "cell_type": "code",
   "execution_count": 3,
   "metadata": {},
   "outputs": [],
   "source": [
    "def createTestFileCollection(elements=120, entities=2, versions=2, depth=2, fields=2, batch=12):\n",
    "    !rm -rf input\n",
    "    !mkdir -p input\n",
    "    out = !java -jar es.um.nosql.streaminginference.benchmark-0.0.1-SNAPSHOT-jar-with-dependencies.jar \\\n",
    "    --elements $elements \\\n",
    "    --entities $entities \\\n",
    "    --versions $versions \\\n",
    "    --depth $depth \\\n",
    "    --fields $fields \\\n",
    "    --mode file \\\n",
    "    --flow stream \\\n",
    "    --batch $batch \\\n",
    "    --output input/collection.json \\\n",
    "    --delay 10"
   ]
  },
  {
   "cell_type": "markdown",
   "metadata": {},
   "source": [
    "Esta función rellena la base de datos *benchmark* con entidades de prueba:"
   ]
  },
  {
   "cell_type": "code",
   "execution_count": 4,
   "metadata": {},
   "outputs": [],
   "source": [
    "def createTestMongoCollection(elements=120, entities=2, versions=2, depth=2, fields=2):\n",
    "    out = !java -jar es.um.nosql.streaminginference.benchmark-0.0.1-SNAPSHOT-jar-with-dependencies.jar \\\n",
    "    --elements $elements \\\n",
    "    --entities $entities \\\n",
    "    --versions $versions \\\n",
    "    --depth $depth \\\n",
    "    --fields $fields \\\n",
    "    --mode mongo \\\n",
    "    --host localhost \\\n",
    "    --port 27017 \\\n",
    "    --database benchmark    "
   ]
  },
  {
   "cell_type": "markdown",
   "metadata": {},
   "source": [
    "Esta función crea un único archivo json con una colección de elementos en la carpeta input con nombre \"collection\":"
   ]
  },
  {
   "cell_type": "code",
   "execution_count": 5,
   "metadata": {},
   "outputs": [],
   "source": [
    "def createTestSingleCollection(elements=120, entities=2, versions=2, depth=2, fields=2):\n",
    "    !rm -rf input\n",
    "    !mkdir -p input\n",
    "    out = !java -jar es.um.nosql.streaminginference.benchmark-0.0.1-SNAPSHOT-jar-with-dependencies.jar \\\n",
    "    --elements $elements \\\n",
    "    --entities $entities \\\n",
    "    --versions $versions \\\n",
    "    --depth $depth \\\n",
    "    --fields $fields \\\n",
    "    --mode file \\\n",
    "    --output input/collection.json"
   ]
  },
  {
   "cell_type": "markdown",
   "metadata": {},
   "source": [
    "Esta función determina el comando a utilizar en función del modo de funcionamiento:"
   ]
  },
  {
   "cell_type": "code",
   "execution_count": 6,
   "metadata": {},
   "outputs": [],
   "source": [
    "def createTestCollection(mode=\"file\", elements=120, entities=2, versions=2, depth=2, fields=2, batch=12):\n",
    "    !mkdir -p output\n",
    "    if (mode == \"file\"):\n",
    "        createTestFileCollection(elements, entities, versions, depth, fields, batch)\n",
    "    elif (mode == \"mongo\"):\n",
    "        createTestMongoCollection(elements, entities, versions, depth, fields)\n",
    "    elif (mode == \"single\"):\n",
    "        createTestSingleCollection(elements, entities, versions, depth, fields) "
   ]
  },
  {
   "cell_type": "markdown",
   "metadata": {},
   "source": [
    "## Benchmarking de aplicaciones"
   ]
  },
  {
   "cell_type": "markdown",
   "metadata": {},
   "source": [
    "Esta función ejecuta la aplicación de inferencia sobre una serie de colecciones previamente creada y vuelca en *stats.csv* los resultados:"
   ]
  },
  {
   "cell_type": "code",
   "execution_count": 7,
   "metadata": {},
   "outputs": [],
   "source": [
    "def benchmarkFile(interval=1000, kryo=\"true\"):\n",
    "    out = !spark-submit --driver-memory 8g --master local[*] es.um.nosql.streaminginference.json2dbschema-0.0.1-SNAPSHOT-jar-with-dependencies.jar \\\n",
    "    --mode file \\\n",
    "    --input input \\\n",
    "    --benchmark true \\\n",
    "    --interval $interval \\\n",
    "    --kryo $kryo"
   ]
  },
  {
   "cell_type": "markdown",
   "metadata": {},
   "source": [
    "Esta función ejecuta la aplicación de inferencia sobre la base de datos previamente creada y genera el archivo *stats.csv*:"
   ]
  },
  {
   "cell_type": "code",
   "execution_count": 8,
   "metadata": {},
   "outputs": [],
   "source": [
    "def benchmarkMongo(interval=1000, block=200, kryo=\"true\"):\n",
    "    out = !spark-submit --driver-memory 8g --master local[*] es.um.nosql.streaminginference.json2dbschema-0.0.1-SNAPSHOT-jar-with-dependencies.jar \\\n",
    "    --mode mongo \\\n",
    "    --database benchmark \\\n",
    "    --host localhost \\\n",
    "    --port 27017 \\\n",
    "    --benchmark true \\\n",
    "    --interval $interval \\\n",
    "    --block-interval $block \\\n",
    "    --kryo $kryo"
   ]
  },
  {
   "cell_type": "markdown",
   "metadata": {},
   "source": [
    "Esta función ejecuta la aplicación de inferencia sobre la colección creada genera el archivo *stats.csv*, en este caso solamente se mostrará el tiempo de procesamiento:"
   ]
  },
  {
   "cell_type": "code",
   "execution_count": 9,
   "metadata": {},
   "outputs": [],
   "source": [
    "def benchmarkSingle():\n",
    "    out = !spark-submit --driver-memory 8g --master local[*] es.um.nosql.streaminginference.json2dbschema-0.0.1-SNAPSHOT-jar-with-dependencies.jar \\\n",
    "    --mode single \\\n",
    "    --input input/collection.json \\\n",
    "    --benchmark true"
   ]
  },
  {
   "cell_type": "markdown",
   "metadata": {},
   "source": [
    "Esta función determina el comando a utilizar en función del modo de funcionamiento:"
   ]
  },
  {
   "cell_type": "code",
   "execution_count": 10,
   "metadata": {},
   "outputs": [],
   "source": [
    "def benchmarkSparkApp(mode=\"file\", interval=1000, block=200, kryo=\"true\"):\n",
    "    if (mode == \"file\"):\n",
    "        benchmarkFile(interval, kryo)\n",
    "    elif (mode == \"mongo\"):\n",
    "        benchmarkMongo(interval, block, kryo)\n",
    "    elif (mode== \"single\"):\n",
    "        benchmarkSingle()"
   ]
  },
  {
   "cell_type": "markdown",
   "metadata": {},
   "source": [
    "## Todo junto"
   ]
  },
  {
   "cell_type": "markdown",
   "metadata": {},
   "source": [
    "La siguiente función compone las funciones anteriores para ejecutar una prueba con los parámetros introducidos:"
   ]
  },
  {
   "cell_type": "code",
   "execution_count": 48,
   "metadata": {},
   "outputs": [],
   "source": [
    "def benchmark(mode=\"file\", interval=1000, block=200, elements=120, entities=2, versions=2, depth=2, fields=2, batch=12, kryo=\"true\"):\n",
    "    global benchmarked\n",
    "    !rm -f output/stats.csv\n",
    "    createTestCollection(mode, elements, entities, versions, depth, fields, batch)\n",
    "    for x in range(0, 10):\n",
    "        benchmarkSparkApp(mode, interval, block, kryo)\n",
    "    benchmarked = pd.read_csv(\"output/stats.csv\")\n",
    "    return benchmarked"
   ]
  },
  {
   "cell_type": "markdown",
   "metadata": {},
   "source": [
    "## Pruebas"
   ]
  },
  {
   "cell_type": "markdown",
   "metadata": {},
   "source": [
    "Creación de una colección de 60000 elementos segmentada en 5 archivos:"
   ]
  },
  {
   "cell_type": "code",
   "execution_count": 135,
   "metadata": {},
   "outputs": [],
   "source": [
    "createTestCollection(mode=\"file\", elements=60000, batch=12000)"
   ]
  },
  {
   "cell_type": "markdown",
   "metadata": {},
   "source": [
    "Creación de un único archivo con 60000 elementos:"
   ]
  },
  {
   "cell_type": "code",
   "execution_count": 131,
   "metadata": {},
   "outputs": [],
   "source": [
    "createTestCollection(mode=\"single\", elements=60000)"
   ]
  },
  {
   "cell_type": "markdown",
   "metadata": {},
   "source": [
    "Inserción en la base de datos \"benchmark\" de MongoDB de 60000 elementos:"
   ]
  },
  {
   "cell_type": "code",
   "execution_count": 132,
   "metadata": {},
   "outputs": [],
   "source": [
    "createTestCollection(mode=\"mongo\", elements=60000)"
   ]
  },
  {
   "cell_type": "markdown",
   "metadata": {},
   "source": [
    "Prueba de ejecución de 60000 elementos en modo file, en batches de 12000 elementos:"
   ]
  },
  {
   "cell_type": "code",
   "execution_count": 134,
   "metadata": {},
   "outputs": [
    {
     "data": {
      "text/html": [
       "<div>\n",
       "<style scoped>\n",
       "    .dataframe tbody tr th:only-of-type {\n",
       "        vertical-align: middle;\n",
       "    }\n",
       "\n",
       "    .dataframe tbody tr th {\n",
       "        vertical-align: top;\n",
       "    }\n",
       "\n",
       "    .dataframe thead th {\n",
       "        text-align: right;\n",
       "    }\n",
       "</style>\n",
       "<table border=\"1\" class=\"dataframe\">\n",
       "  <thead>\n",
       "    <tr style=\"text-align: right;\">\n",
       "      <th></th>\n",
       "      <th>BATCH_INTERVAL</th>\n",
       "      <th>BLOCK_INTERVAL</th>\n",
       "      <th>PROCESSING_INTERVAL</th>\n",
       "      <th>TOTAL_BATCHES</th>\n",
       "      <th>TOTAL_DELAY</th>\n",
       "      <th>TOTAL_PROCESSING</th>\n",
       "      <th>TOTAL_IDLE</th>\n",
       "      <th>TOTAL_RECORDS</th>\n",
       "      <th>AVERAGE_DELAY</th>\n",
       "      <th>AVERAGE_PROCESSING</th>\n",
       "      <th>AVERAGE_IDLE</th>\n",
       "      <th>AVERAGE_RECORDS</th>\n",
       "      <th>MAX_PROCESSING</th>\n",
       "      <th>MAX_IDLE</th>\n",
       "      <th>MAX_DELAY</th>\n",
       "    </tr>\n",
       "  </thead>\n",
       "  <tbody>\n",
       "    <tr>\n",
       "      <th>0</th>\n",
       "      <td>1000</td>\n",
       "      <td>200</td>\n",
       "      <td>126</td>\n",
       "      <td>1</td>\n",
       "      <td>1732</td>\n",
       "      <td>1725</td>\n",
       "      <td>0</td>\n",
       "      <td>0</td>\n",
       "      <td>1732</td>\n",
       "      <td>1725</td>\n",
       "      <td>0</td>\n",
       "      <td>0</td>\n",
       "      <td>1725</td>\n",
       "      <td>0</td>\n",
       "      <td>1732</td>\n",
       "    </tr>\n",
       "    <tr>\n",
       "      <th>1</th>\n",
       "      <td>1000</td>\n",
       "      <td>200</td>\n",
       "      <td>105</td>\n",
       "      <td>1</td>\n",
       "      <td>1688</td>\n",
       "      <td>1680</td>\n",
       "      <td>0</td>\n",
       "      <td>0</td>\n",
       "      <td>1688</td>\n",
       "      <td>1680</td>\n",
       "      <td>0</td>\n",
       "      <td>0</td>\n",
       "      <td>1680</td>\n",
       "      <td>0</td>\n",
       "      <td>1688</td>\n",
       "    </tr>\n",
       "    <tr>\n",
       "      <th>2</th>\n",
       "      <td>1000</td>\n",
       "      <td>200</td>\n",
       "      <td>150</td>\n",
       "      <td>1</td>\n",
       "      <td>1836</td>\n",
       "      <td>1829</td>\n",
       "      <td>0</td>\n",
       "      <td>0</td>\n",
       "      <td>1836</td>\n",
       "      <td>1829</td>\n",
       "      <td>0</td>\n",
       "      <td>0</td>\n",
       "      <td>1829</td>\n",
       "      <td>0</td>\n",
       "      <td>1836</td>\n",
       "    </tr>\n",
       "    <tr>\n",
       "      <th>3</th>\n",
       "      <td>1000</td>\n",
       "      <td>200</td>\n",
       "      <td>143</td>\n",
       "      <td>1</td>\n",
       "      <td>1746</td>\n",
       "      <td>1740</td>\n",
       "      <td>0</td>\n",
       "      <td>0</td>\n",
       "      <td>1746</td>\n",
       "      <td>1740</td>\n",
       "      <td>0</td>\n",
       "      <td>0</td>\n",
       "      <td>1740</td>\n",
       "      <td>0</td>\n",
       "      <td>1746</td>\n",
       "    </tr>\n",
       "    <tr>\n",
       "      <th>4</th>\n",
       "      <td>1000</td>\n",
       "      <td>200</td>\n",
       "      <td>141</td>\n",
       "      <td>1</td>\n",
       "      <td>1784</td>\n",
       "      <td>1777</td>\n",
       "      <td>0</td>\n",
       "      <td>0</td>\n",
       "      <td>1784</td>\n",
       "      <td>1777</td>\n",
       "      <td>0</td>\n",
       "      <td>0</td>\n",
       "      <td>1777</td>\n",
       "      <td>0</td>\n",
       "      <td>1784</td>\n",
       "    </tr>\n",
       "    <tr>\n",
       "      <th>5</th>\n",
       "      <td>1000</td>\n",
       "      <td>200</td>\n",
       "      <td>147</td>\n",
       "      <td>1</td>\n",
       "      <td>1793</td>\n",
       "      <td>1784</td>\n",
       "      <td>0</td>\n",
       "      <td>0</td>\n",
       "      <td>1793</td>\n",
       "      <td>1784</td>\n",
       "      <td>0</td>\n",
       "      <td>0</td>\n",
       "      <td>1784</td>\n",
       "      <td>0</td>\n",
       "      <td>1793</td>\n",
       "    </tr>\n",
       "    <tr>\n",
       "      <th>6</th>\n",
       "      <td>1000</td>\n",
       "      <td>200</td>\n",
       "      <td>147</td>\n",
       "      <td>1</td>\n",
       "      <td>1812</td>\n",
       "      <td>1806</td>\n",
       "      <td>0</td>\n",
       "      <td>0</td>\n",
       "      <td>1812</td>\n",
       "      <td>1806</td>\n",
       "      <td>0</td>\n",
       "      <td>0</td>\n",
       "      <td>1806</td>\n",
       "      <td>0</td>\n",
       "      <td>1812</td>\n",
       "    </tr>\n",
       "    <tr>\n",
       "      <th>7</th>\n",
       "      <td>1000</td>\n",
       "      <td>200</td>\n",
       "      <td>145</td>\n",
       "      <td>1</td>\n",
       "      <td>1719</td>\n",
       "      <td>1714</td>\n",
       "      <td>0</td>\n",
       "      <td>0</td>\n",
       "      <td>1719</td>\n",
       "      <td>1714</td>\n",
       "      <td>0</td>\n",
       "      <td>0</td>\n",
       "      <td>1714</td>\n",
       "      <td>0</td>\n",
       "      <td>1719</td>\n",
       "    </tr>\n",
       "    <tr>\n",
       "      <th>8</th>\n",
       "      <td>1000</td>\n",
       "      <td>200</td>\n",
       "      <td>157</td>\n",
       "      <td>1</td>\n",
       "      <td>1539</td>\n",
       "      <td>1533</td>\n",
       "      <td>0</td>\n",
       "      <td>0</td>\n",
       "      <td>1539</td>\n",
       "      <td>1533</td>\n",
       "      <td>0</td>\n",
       "      <td>0</td>\n",
       "      <td>1533</td>\n",
       "      <td>0</td>\n",
       "      <td>1539</td>\n",
       "    </tr>\n",
       "    <tr>\n",
       "      <th>9</th>\n",
       "      <td>1000</td>\n",
       "      <td>200</td>\n",
       "      <td>133</td>\n",
       "      <td>1</td>\n",
       "      <td>1577</td>\n",
       "      <td>1572</td>\n",
       "      <td>0</td>\n",
       "      <td>0</td>\n",
       "      <td>1577</td>\n",
       "      <td>1572</td>\n",
       "      <td>0</td>\n",
       "      <td>0</td>\n",
       "      <td>1572</td>\n",
       "      <td>0</td>\n",
       "      <td>1577</td>\n",
       "    </tr>\n",
       "  </tbody>\n",
       "</table>\n",
       "</div>"
      ],
      "text/plain": [
       "   BATCH_INTERVAL  BLOCK_INTERVAL  PROCESSING_INTERVAL  TOTAL_BATCHES  \\\n",
       "0            1000             200                  126              1   \n",
       "1            1000             200                  105              1   \n",
       "2            1000             200                  150              1   \n",
       "3            1000             200                  143              1   \n",
       "4            1000             200                  141              1   \n",
       "5            1000             200                  147              1   \n",
       "6            1000             200                  147              1   \n",
       "7            1000             200                  145              1   \n",
       "8            1000             200                  157              1   \n",
       "9            1000             200                  133              1   \n",
       "\n",
       "   TOTAL_DELAY  TOTAL_PROCESSING  TOTAL_IDLE  TOTAL_RECORDS  AVERAGE_DELAY  \\\n",
       "0         1732              1725           0              0           1732   \n",
       "1         1688              1680           0              0           1688   \n",
       "2         1836              1829           0              0           1836   \n",
       "3         1746              1740           0              0           1746   \n",
       "4         1784              1777           0              0           1784   \n",
       "5         1793              1784           0              0           1793   \n",
       "6         1812              1806           0              0           1812   \n",
       "7         1719              1714           0              0           1719   \n",
       "8         1539              1533           0              0           1539   \n",
       "9         1577              1572           0              0           1577   \n",
       "\n",
       "   AVERAGE_PROCESSING  AVERAGE_IDLE  AVERAGE_RECORDS  MAX_PROCESSING  \\\n",
       "0                1725             0                0            1725   \n",
       "1                1680             0                0            1680   \n",
       "2                1829             0                0            1829   \n",
       "3                1740             0                0            1740   \n",
       "4                1777             0                0            1777   \n",
       "5                1784             0                0            1784   \n",
       "6                1806             0                0            1806   \n",
       "7                1714             0                0            1714   \n",
       "8                1533             0                0            1533   \n",
       "9                1572             0                0            1572   \n",
       "\n",
       "   MAX_IDLE  MAX_DELAY  \n",
       "0         0       1732  \n",
       "1         0       1688  \n",
       "2         0       1836  \n",
       "3         0       1746  \n",
       "4         0       1784  \n",
       "5         0       1793  \n",
       "6         0       1812  \n",
       "7         0       1719  \n",
       "8         0       1539  \n",
       "9         0       1577  "
      ]
     },
     "execution_count": 134,
     "metadata": {},
     "output_type": "execute_result"
    }
   ],
   "source": [
    "benchmark(mode=\"file\",elements=60000, batch=12000)"
   ]
  },
  {
   "cell_type": "markdown",
   "metadata": {},
   "source": [
    "Prueba de ejecución de 30000 elementos en modo single:"
   ]
  },
  {
   "cell_type": "code",
   "execution_count": 136,
   "metadata": {},
   "outputs": [
    {
     "data": {
      "text/html": [
       "<div>\n",
       "<style scoped>\n",
       "    .dataframe tbody tr th:only-of-type {\n",
       "        vertical-align: middle;\n",
       "    }\n",
       "\n",
       "    .dataframe tbody tr th {\n",
       "        vertical-align: top;\n",
       "    }\n",
       "\n",
       "    .dataframe thead th {\n",
       "        text-align: right;\n",
       "    }\n",
       "</style>\n",
       "<table border=\"1\" class=\"dataframe\">\n",
       "  <thead>\n",
       "    <tr style=\"text-align: right;\">\n",
       "      <th></th>\n",
       "      <th>TOTAL_PROCESSING</th>\n",
       "    </tr>\n",
       "  </thead>\n",
       "  <tbody>\n",
       "    <tr>\n",
       "      <th>0</th>\n",
       "      <td>1142</td>\n",
       "    </tr>\n",
       "    <tr>\n",
       "      <th>1</th>\n",
       "      <td>1097</td>\n",
       "    </tr>\n",
       "    <tr>\n",
       "      <th>2</th>\n",
       "      <td>1060</td>\n",
       "    </tr>\n",
       "    <tr>\n",
       "      <th>3</th>\n",
       "      <td>1047</td>\n",
       "    </tr>\n",
       "    <tr>\n",
       "      <th>4</th>\n",
       "      <td>1106</td>\n",
       "    </tr>\n",
       "    <tr>\n",
       "      <th>5</th>\n",
       "      <td>1157</td>\n",
       "    </tr>\n",
       "    <tr>\n",
       "      <th>6</th>\n",
       "      <td>1151</td>\n",
       "    </tr>\n",
       "    <tr>\n",
       "      <th>7</th>\n",
       "      <td>1190</td>\n",
       "    </tr>\n",
       "    <tr>\n",
       "      <th>8</th>\n",
       "      <td>1140</td>\n",
       "    </tr>\n",
       "    <tr>\n",
       "      <th>9</th>\n",
       "      <td>1165</td>\n",
       "    </tr>\n",
       "  </tbody>\n",
       "</table>\n",
       "</div>"
      ],
      "text/plain": [
       "   TOTAL_PROCESSING\n",
       "0              1142\n",
       "1              1097\n",
       "2              1060\n",
       "3              1047\n",
       "4              1106\n",
       "5              1157\n",
       "6              1151\n",
       "7              1190\n",
       "8              1140\n",
       "9              1165"
      ]
     },
     "execution_count": 136,
     "metadata": {},
     "output_type": "execute_result"
    }
   ],
   "source": [
    "benchmark(mode=\"single\",elements=60000)"
   ]
  },
  {
   "cell_type": "markdown",
   "metadata": {},
   "source": [
    "Prueba de ejecución de 1200 elementos en modo mongo:"
   ]
  },
  {
   "cell_type": "code",
   "execution_count": 69,
   "metadata": {},
   "outputs": [
    {
     "data": {
      "text/html": [
       "<div>\n",
       "<style scoped>\n",
       "    .dataframe tbody tr th:only-of-type {\n",
       "        vertical-align: middle;\n",
       "    }\n",
       "\n",
       "    .dataframe tbody tr th {\n",
       "        vertical-align: top;\n",
       "    }\n",
       "\n",
       "    .dataframe thead th {\n",
       "        text-align: right;\n",
       "    }\n",
       "</style>\n",
       "<table border=\"1\" class=\"dataframe\">\n",
       "  <thead>\n",
       "    <tr style=\"text-align: right;\">\n",
       "      <th></th>\n",
       "      <th>BATCH_INTERVAL</th>\n",
       "      <th>BLOCK_INTERVAL</th>\n",
       "      <th>PROCESSING_INTERVAL</th>\n",
       "      <th>TOTAL_BATCHES</th>\n",
       "      <th>TOTAL_DELAY</th>\n",
       "      <th>TOTAL_PROCESSING</th>\n",
       "      <th>TOTAL_IDLE</th>\n",
       "      <th>TOTAL_RECORDS</th>\n",
       "      <th>AVERAGE_DELAY</th>\n",
       "      <th>AVERAGE_PROCESSING</th>\n",
       "      <th>AVERAGE_IDLE</th>\n",
       "      <th>AVERAGE_RECORDS</th>\n",
       "      <th>MAX_PROCESSING</th>\n",
       "      <th>MAX_IDLE</th>\n",
       "      <th>MAX_DELAY</th>\n",
       "    </tr>\n",
       "  </thead>\n",
       "  <tbody>\n",
       "    <tr>\n",
       "      <th>0</th>\n",
       "      <td>1000</td>\n",
       "      <td>200</td>\n",
       "      <td>1992</td>\n",
       "      <td>2</td>\n",
       "      <td>653</td>\n",
       "      <td>646</td>\n",
       "      <td>1354</td>\n",
       "      <td>1200</td>\n",
       "      <td>326</td>\n",
       "      <td>323</td>\n",
       "      <td>677</td>\n",
       "      <td>600</td>\n",
       "      <td>889</td>\n",
       "      <td>0</td>\n",
       "      <td>536</td>\n",
       "    </tr>\n",
       "    <tr>\n",
       "      <th>1</th>\n",
       "      <td>1000</td>\n",
       "      <td>200</td>\n",
       "      <td>988</td>\n",
       "      <td>1</td>\n",
       "      <td>495</td>\n",
       "      <td>494</td>\n",
       "      <td>506</td>\n",
       "      <td>1200</td>\n",
       "      <td>495</td>\n",
       "      <td>494</td>\n",
       "      <td>506</td>\n",
       "      <td>1200</td>\n",
       "      <td>506</td>\n",
       "      <td>0</td>\n",
       "      <td>495</td>\n",
       "    </tr>\n",
       "    <tr>\n",
       "      <th>2</th>\n",
       "      <td>1000</td>\n",
       "      <td>200</td>\n",
       "      <td>1991</td>\n",
       "      <td>2</td>\n",
       "      <td>592</td>\n",
       "      <td>586</td>\n",
       "      <td>1414</td>\n",
       "      <td>1200</td>\n",
       "      <td>296</td>\n",
       "      <td>293</td>\n",
       "      <td>707</td>\n",
       "      <td>600</td>\n",
       "      <td>887</td>\n",
       "      <td>0</td>\n",
       "      <td>474</td>\n",
       "    </tr>\n",
       "    <tr>\n",
       "      <th>3</th>\n",
       "      <td>1000</td>\n",
       "      <td>200</td>\n",
       "      <td>997</td>\n",
       "      <td>1</td>\n",
       "      <td>546</td>\n",
       "      <td>545</td>\n",
       "      <td>455</td>\n",
       "      <td>1200</td>\n",
       "      <td>546</td>\n",
       "      <td>545</td>\n",
       "      <td>455</td>\n",
       "      <td>1200</td>\n",
       "      <td>455</td>\n",
       "      <td>0</td>\n",
       "      <td>546</td>\n",
       "    </tr>\n",
       "    <tr>\n",
       "      <th>4</th>\n",
       "      <td>1000</td>\n",
       "      <td>200</td>\n",
       "      <td>994</td>\n",
       "      <td>1</td>\n",
       "      <td>494</td>\n",
       "      <td>493</td>\n",
       "      <td>507</td>\n",
       "      <td>1200</td>\n",
       "      <td>494</td>\n",
       "      <td>493</td>\n",
       "      <td>507</td>\n",
       "      <td>1200</td>\n",
       "      <td>507</td>\n",
       "      <td>0</td>\n",
       "      <td>494</td>\n",
       "    </tr>\n",
       "    <tr>\n",
       "      <th>5</th>\n",
       "      <td>1000</td>\n",
       "      <td>200</td>\n",
       "      <td>989</td>\n",
       "      <td>1</td>\n",
       "      <td>502</td>\n",
       "      <td>495</td>\n",
       "      <td>505</td>\n",
       "      <td>1200</td>\n",
       "      <td>502</td>\n",
       "      <td>495</td>\n",
       "      <td>505</td>\n",
       "      <td>1200</td>\n",
       "      <td>505</td>\n",
       "      <td>0</td>\n",
       "      <td>502</td>\n",
       "    </tr>\n",
       "    <tr>\n",
       "      <th>6</th>\n",
       "      <td>1000</td>\n",
       "      <td>200</td>\n",
       "      <td>996</td>\n",
       "      <td>1</td>\n",
       "      <td>505</td>\n",
       "      <td>504</td>\n",
       "      <td>496</td>\n",
       "      <td>1200</td>\n",
       "      <td>505</td>\n",
       "      <td>504</td>\n",
       "      <td>496</td>\n",
       "      <td>1200</td>\n",
       "      <td>496</td>\n",
       "      <td>0</td>\n",
       "      <td>505</td>\n",
       "    </tr>\n",
       "    <tr>\n",
       "      <th>7</th>\n",
       "      <td>1000</td>\n",
       "      <td>200</td>\n",
       "      <td>993</td>\n",
       "      <td>1</td>\n",
       "      <td>511</td>\n",
       "      <td>506</td>\n",
       "      <td>494</td>\n",
       "      <td>1200</td>\n",
       "      <td>511</td>\n",
       "      <td>506</td>\n",
       "      <td>494</td>\n",
       "      <td>1200</td>\n",
       "      <td>494</td>\n",
       "      <td>0</td>\n",
       "      <td>511</td>\n",
       "    </tr>\n",
       "    <tr>\n",
       "      <th>8</th>\n",
       "      <td>1000</td>\n",
       "      <td>200</td>\n",
       "      <td>994</td>\n",
       "      <td>1</td>\n",
       "      <td>498</td>\n",
       "      <td>497</td>\n",
       "      <td>503</td>\n",
       "      <td>1200</td>\n",
       "      <td>498</td>\n",
       "      <td>497</td>\n",
       "      <td>503</td>\n",
       "      <td>1200</td>\n",
       "      <td>503</td>\n",
       "      <td>0</td>\n",
       "      <td>498</td>\n",
       "    </tr>\n",
       "    <tr>\n",
       "      <th>9</th>\n",
       "      <td>1000</td>\n",
       "      <td>200</td>\n",
       "      <td>996</td>\n",
       "      <td>1</td>\n",
       "      <td>510</td>\n",
       "      <td>506</td>\n",
       "      <td>494</td>\n",
       "      <td>1200</td>\n",
       "      <td>510</td>\n",
       "      <td>506</td>\n",
       "      <td>494</td>\n",
       "      <td>1200</td>\n",
       "      <td>494</td>\n",
       "      <td>0</td>\n",
       "      <td>510</td>\n",
       "    </tr>\n",
       "  </tbody>\n",
       "</table>\n",
       "</div>"
      ],
      "text/plain": [
       "   BATCH_INTERVAL  BLOCK_INTERVAL  PROCESSING_INTERVAL  TOTAL_BATCHES  \\\n",
       "0            1000             200                 1992              2   \n",
       "1            1000             200                  988              1   \n",
       "2            1000             200                 1991              2   \n",
       "3            1000             200                  997              1   \n",
       "4            1000             200                  994              1   \n",
       "5            1000             200                  989              1   \n",
       "6            1000             200                  996              1   \n",
       "7            1000             200                  993              1   \n",
       "8            1000             200                  994              1   \n",
       "9            1000             200                  996              1   \n",
       "\n",
       "   TOTAL_DELAY  TOTAL_PROCESSING  TOTAL_IDLE  TOTAL_RECORDS  AVERAGE_DELAY  \\\n",
       "0          653               646        1354           1200            326   \n",
       "1          495               494         506           1200            495   \n",
       "2          592               586        1414           1200            296   \n",
       "3          546               545         455           1200            546   \n",
       "4          494               493         507           1200            494   \n",
       "5          502               495         505           1200            502   \n",
       "6          505               504         496           1200            505   \n",
       "7          511               506         494           1200            511   \n",
       "8          498               497         503           1200            498   \n",
       "9          510               506         494           1200            510   \n",
       "\n",
       "   AVERAGE_PROCESSING  AVERAGE_IDLE  AVERAGE_RECORDS  MAX_PROCESSING  \\\n",
       "0                 323           677              600             889   \n",
       "1                 494           506             1200             506   \n",
       "2                 293           707              600             887   \n",
       "3                 545           455             1200             455   \n",
       "4                 493           507             1200             507   \n",
       "5                 495           505             1200             505   \n",
       "6                 504           496             1200             496   \n",
       "7                 506           494             1200             494   \n",
       "8                 497           503             1200             503   \n",
       "9                 506           494             1200             494   \n",
       "\n",
       "   MAX_IDLE  MAX_DELAY  \n",
       "0         0        536  \n",
       "1         0        495  \n",
       "2         0        474  \n",
       "3         0        546  \n",
       "4         0        494  \n",
       "5         0        502  \n",
       "6         0        505  \n",
       "7         0        511  \n",
       "8         0        498  \n",
       "9         0        510  "
      ]
     },
     "execution_count": 69,
     "metadata": {},
     "output_type": "execute_result"
    }
   ],
   "source": [
    "benchmark(mode=\"mongo\", elements=60000)"
   ]
  },
  {
   "cell_type": "markdown",
   "metadata": {},
   "source": [
    "## Medición de parámetros"
   ]
  },
  {
   "cell_type": "markdown",
   "metadata": {},
   "source": [
    "Estudio del efecto de la serialización Kryo en la aplicación:"
   ]
  },
  {
   "cell_type": "code",
   "execution_count": 12,
   "metadata": {
    "scrolled": true
   },
   "outputs": [
    {
     "data": {
      "text/plain": [
       "Text(0,0.5,u'Milisegundos de procesamiento')"
      ]
     },
     "execution_count": 12,
     "metadata": {},
     "output_type": "execute_result"
    },
    {
     "data": {
      "image/png": "[encoded data removed]",
      "text/plain": [
       "<matplotlib.figure.Figure at 0x7f880a884e10>"
      ]
     },
     "metadata": {},
     "output_type": "display_data"
    }
   ],
   "source": [
    "results = pd.DataFrame()\n",
    "df = benchmark(mode=\"file\", elements=120000, batch=12000, entities=30, versions=20, depth=5, fields=4, kryo=\"true\")\n",
    "df.to_csv(\"kryo-enabled.csv\")\n",
    "results[\"kryo enabled\"] = df[\"TOTAL_PROCESSING\"]\n",
    "df = benchmark(mode=\"file\", elements=120000, batch=12000,  entities=30, versions=20, depth=5, fields=4, kryo=\"false\")\n",
    "df.to_csv(\"kryo-disabled.csv\")\n",
    "results[\"kryo disabled\"] = df[\"TOTAL_PROCESSING\"]\n",
    "ax = sns.barplot(data=results)\n",
    "ax.set_ylabel(\"Milisegundos de procesamiento\")"
   ]
  },
  {
   "cell_type": "markdown",
   "metadata": {},
   "source": [
    "Estudio del efecto del número de entidades en el tiempo de procesamiento:"
   ]
  },
  {
   "cell_type": "code",
   "execution_count": 50,
   "metadata": {},
   "outputs": [
    {
     "data": {
      "text/plain": [
       "<seaborn.axisgrid.FacetGrid at 0x7f564344b9d0>"
      ]
     },
     "execution_count": 50,
     "metadata": {},
     "output_type": "execute_result"
    },
    {
     "data": {
      "image/png": "[encoded data removed]",
      "text/plain": [
       "<matplotlib.figure.Figure at 0x7f564344b850>"
      ]
     },
     "metadata": {},
     "output_type": "display_data"
    }
   ],
   "source": [
    "ents = np.array([])\n",
    "mode = np.array([])\n",
    "millis = np.array([])\n",
    "for entities in [1, 50, 100, 200, 400]:\n",
    "    df = benchmark(mode=\"file\", elements=120000, batch=12000, entities=entities, versions=1, depth=2, fields=2, kryo=\"true\")\n",
    "    df.to_csv(\"file-entities-\"+str(entities)+\".csv\")\n",
    "    length = df[\"TOTAL_PROCESSING\"].size\n",
    "    ents = np.append(ents, np.repeat(entities, length))\n",
    "    mode = np.append(mode, np.repeat(\"Paralelo\", length))\n",
    "    millis = np.append(millis, df[\"TOTAL_PROCESSING\"].as_matrix())\n",
    "    df = benchmark(mode=\"single\", elements=120000, entities=entities, versions=1, depth=2, fields=2)\n",
    "    df.to_csv(\"original-file-entities-\"+str(entities)+\".csv\")\n",
    "    length = df[\"TOTAL_PROCESSING\"].size\n",
    "    ents = np.append(ents, np.repeat(entities, length))\n",
    "    mode = np.append(mode, np.repeat(\"Original\", length))\n",
    "    millis = np.append(millis, df[\"TOTAL_PROCESSING\"].as_matrix())\n",
    "    \n",
    "results = pd.DataFrame({\"Entidades\":ents, \"Modo\": mode, \"Milisegundos de procesamiento\": millis})\n",
    "sns.factorplot(x=\"Entidades\", y=\"Milisegundos de procesamiento\", col=\"Modo\", data=results, kind=\"bar\", size=7)"
   ]
  },
  {
   "cell_type": "markdown",
   "metadata": {},
   "source": [
    "Estudio del efecto del número de versiones en el tiempo de procesamiento:"
   ]
  },
  {
   "cell_type": "code",
   "execution_count": 51,
   "metadata": {},
   "outputs": [
    {
     "data": {
      "text/plain": [
       "<seaborn.axisgrid.FacetGrid at 0x7f5642f61190>"
      ]
     },
     "execution_count": 51,
     "metadata": {},
     "output_type": "execute_result"
    },
    {
     "data": {
      "image/png": "[encoded data removed]",
      "text/plain": [
       "<matplotlib.figure.Figure at 0x7f5642f61310>"
      ]
     },
     "metadata": {},
     "output_type": "display_data"
    }
   ],
   "source": [
    "vers = np.array([])\n",
    "mode = np.array([])\n",
    "millis = np.array([])\n",
    "\n",
    "for versions in [1, 50, 100, 200, 400]:\n",
    "    df = benchmark(mode=\"file\", elements=120000, batch=12000, entities=1, versions=versions, depth=2, fields=2, kryo=\"true\")\n",
    "    df.to_csv(\"file-versions-\"+str(versions)+\".csv\")\n",
    "    length = df[\"TOTAL_PROCESSING\"].size\n",
    "    vers = np.append(vers, np.repeat(versions, length))\n",
    "    mode = np.append(mode, np.repeat(\"Paralelo\", length))\n",
    "    millis = np.append(millis, df[\"TOTAL_PROCESSING\"].as_matrix())\n",
    "    df = benchmark(mode=\"single\", elements=120000, entities=1, versions=versions, depth=2, fields=2)\n",
    "    df.to_csv(\"original-file-versions-\"+str(versions)+\".csv\")\n",
    "    vers = np.append(vers, np.repeat(versions, length))\n",
    "    mode = np.append(mode, np.repeat(\"Original\", length))\n",
    "    millis = np.append(millis, df[\"TOTAL_PROCESSING\"].as_matrix())    \n",
    "    \n",
    "results = pd.DataFrame({\"Versiones\":vers, \"Modo\": mode, \"Milisegundos de procesamiento\": millis})\n",
    "sns.factorplot(x=\"Versiones\", y=\"Milisegundos de procesamiento\", col=\"Modo\", data=results, kind=\"bar\", size=7)"
   ]
  },
  {
   "cell_type": "markdown",
   "metadata": {},
   "source": [
    "Estudio del efecto del número de elementos en el tiempo de procesamiento:"
   ]
  },
  {
   "cell_type": "code",
   "execution_count": 54,
   "metadata": {},
   "outputs": [
    {
     "data": {
      "text/plain": [
       "<seaborn.axisgrid.FacetGrid at 0x7f5641e92150>"
      ]
     },
     "execution_count": 54,
     "metadata": {},
     "output_type": "execute_result"
    },
    {
     "data": {
      "image/png": "[encoded data removed]",
      "text/plain": [
       "<matplotlib.figure.Figure at 0x7f5641e92310>"
      ]
     },
     "metadata": {},
     "output_type": "display_data"
    }
   ],
   "source": [
    "elems = np.array([])\n",
    "mode = np.array([])\n",
    "micros = np.array([])\n",
    "\n",
    "for elements in [50000, 100000, 500000, 1000000, 2000000]:\n",
    "    df = benchmark(mode=\"file\", elements=elements, batch=(elements/10), entities=1, versions=1, depth=2, fields=2, kryo=\"true\")\n",
    "    df.to_csv(\"file-elements-\"+str(elements)+\".csv\")\n",
    "    length = df[\"TOTAL_PROCESSING\"].size\n",
    "    elems = np.append(elems, np.repeat(elements, length))\n",
    "    mode = np.append(mode, np.repeat(\"Paralelo\", length))\n",
    "    micros = np.append(micros, (df[\"TOTAL_PROCESSING\"]*1000/elements).as_matrix())\n",
    "    df = benchmark(mode=\"single\", elements=elements, entities=1, versions=1, depth=2, fields=2)\n",
    "    df.to_csv(\"original-file-elements-\"+str(elements)+\".csv\")\n",
    "    elems = np.append(elems, np.repeat(elements, length))\n",
    "    mode = np.append(mode, np.repeat(\"Original\", length))\n",
    "    micros = np.append(micros, (df[\"TOTAL_PROCESSING\"]*1000/elements).as_matrix())\n",
    "    \n",
    "results = pd.DataFrame({\"Elementos\":elems, \"Modo\": mode, \"Microsegundos por elemento\": micros})\n",
    "sns.factorplot(x=\"Elementos\", y=\"Microsegundos por elemento\", col=\"Modo\", data=results, kind=\"bar\", size=7)"
   ]
  },
  {
   "cell_type": "markdown",
   "metadata": {},
   "source": [
    "Estudio del efecto del número de particiones en el tiempo de procesamiento:"
   ]
  },
  {
   "cell_type": "code",
   "execution_count": 53,
   "metadata": {},
   "outputs": [
    {
     "data": {
      "text/plain": [
       "<seaborn.axisgrid.FacetGrid at 0x7f56431c9f50>"
      ]
     },
     "execution_count": 53,
     "metadata": {},
     "output_type": "execute_result"
    },
    {
     "data": {
      "image/png": "[encoded data removed]",
      "text/plain": [
       "<matplotlib.figure.Figure at 0x7f56431c9250>"
      ]
     },
     "metadata": {},
     "output_type": "display_data"
    }
   ],
   "source": [
    "parts = np.array([])\n",
    "millis = np.array([])\n",
    "\n",
    "for partitions in [1, 2, 4, 8, 16]:\n",
    "    df = benchmark(mode=\"file\", elements=120000, batch=(elements/partitions), entities=1, versions=1, depth=2, fields=2, kryo=\"true\")\n",
    "    df.to_csv(\"file-partitions-\"+str(partitions)+\".csv\")\n",
    "    length = df[\"TOTAL_PROCESSING\"].size\n",
    "    parts = np.append(parts, np.repeat(partitions, length))\n",
    "    millis = np.append(millis, df[\"TOTAL_PROCESSING\"].as_matrix())\n",
    "        \n",
    "results = pd.DataFrame({\"Particiones\":parts, \"Milisegundos de procesamiento\": millis})\n",
    "sns.factorplot(x=\"Particiones\", y=\"Milisegundos de procesamiento\", data=results, kind=\"bar\", size=7)"
   ]
  }
 ],
 "metadata": {
  "kernelspec": {
   "display_name": "Python 2",
   "language": "python",
   "name": "python2"
  },
  "language_info": {
   "codemirror_mode": {
    "name": "ipython",
    "version": 2
   },
   "file_extension": ".py",
   "mimetype": "text/x-python",
   "name": "python",
   "nbconvert_exporter": "python",
   "pygments_lexer": "ipython2",
   "version": "2.7.14"
  }
 },
 "nbformat": 4,
 "nbformat_minor": 2
}
