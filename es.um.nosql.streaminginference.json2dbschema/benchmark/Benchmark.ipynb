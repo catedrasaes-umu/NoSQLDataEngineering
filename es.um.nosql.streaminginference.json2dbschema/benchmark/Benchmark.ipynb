{
 "cells": [
  {
   "cell_type": "markdown",
   "metadata": {},
   "source": [
    "# Pruebas de rendimiento sobre Streaming Inference"
   ]
  },
  {
   "cell_type": "markdown",
   "metadata": {},
   "source": [
    "Es necesario tener instalada la versión de java 1.8:"
   ]
  },
  {
   "cell_type": "code",
   "execution_count": 1,
   "metadata": {},
   "outputs": [
    {
     "name": "stderr",
     "output_type": "stream",
     "text": [
      "java version \"1.8.0_171\"\n",
      "Java(TM) SE Runtime Environment (build 1.8.0_171-b11)\n",
      "Java HotSpot(TM) 64-Bit Server VM (build 25.171-b11, mixed mode)\n"
     ]
    }
   ],
   "source": [
    "%%bash\n",
    "java -version"
   ]
  },
  {
   "cell_type": "markdown",
   "metadata": {},
   "source": [
    "También es necesario tener añadida al PATH la carpeta bin de spark 2.2.1 para hadoop 2.7 o posterior ([descarga](https://spark.apache.org/downloads.html))."
   ]
  },
  {
   "cell_type": "code",
   "execution_count": 2,
   "metadata": {},
   "outputs": [],
   "source": [
    "import pandas as pd"
   ]
  },
  {
   "cell_type": "markdown",
   "metadata": {},
   "source": [
    "Esta función rellena la base de datos *benchmark* con entidades de prueba:"
   ]
  },
  {
   "cell_type": "code",
   "execution_count": 3,
   "metadata": {},
   "outputs": [],
   "source": [
    "def createTestCollection(elements=120, entities=2, versions=2, depth=2, fields=2):\n",
    "    !mkdir -p output\n",
    "    out = !java -jar es.um.nosql.streaminginference.benchmark-0.0.1-SNAPSHOT-jar-with-dependencies.jar \\\n",
    "    --elements $elements \\\n",
    "    --entities $entities \\\n",
    "    --versions $versions \\\n",
    "    --depth $depth \\\n",
    "    --fields $fields \\\n",
    "    --mode mongo \\\n",
    "    --host localhost \\\n",
    "    --port 27017 \\\n",
    "    --database benchmark    "
   ]
  },
  {
   "cell_type": "markdown",
   "metadata": {},
   "source": [
    "Esta función ejecuta la aplicación de inferencia sobre la base de datos previamente creada y genera el archivo *stats.csv*:"
   ]
  },
  {
   "cell_type": "code",
   "execution_count": 4,
   "metadata": {},
   "outputs": [],
   "source": [
    "def benchmarkSparkApp(interval=1000, block=200):\n",
    "    out = !spark-submit --master local[*] es.um.nosql.streaminginference.json2dbschema-0.0.1-SNAPSHOT-jar-with-dependencies.jar \\\n",
    "    --mode mongo \\\n",
    "    --database benchmark \\\n",
    "    --host localhost \\\n",
    "    --port 27017 \\\n",
    "    --benchmark true \\\n",
    "    --interval $interval \\\n",
    "    --block-interval $block"
   ]
  },
  {
   "cell_type": "markdown",
   "metadata": {},
   "source": [
    "La siguiente función compone las funciones anteriores para ejecutar una prueba con los parámetros introducidos:"
   ]
  },
  {
   "cell_type": "code",
   "execution_count": 5,
   "metadata": {},
   "outputs": [],
   "source": [
    "def benchmark(interval=1000, block=200, elements=120, entities=2, versions=2, depth=2, fields=2):\n",
    "    global benchmarked\n",
    "    !rm -f output/stats.csv\n",
    "    createTestCollection(elements, entities, versions, depth, fields)\n",
    "    for x in range(0, 1):\n",
    "        benchmarkSparkApp(interval, block)\n",
    "    benchmarked = pd.read_csv(\"output/stats.csv\")\n",
    "    return benchmarked"
   ]
  },
  {
   "cell_type": "markdown",
   "metadata": {},
   "source": [
    "Generación de un dataset de 1000 elementos "
   ]
  },
  {
   "cell_type": "code",
   "execution_count": 6,
   "metadata": {},
   "outputs": [],
   "source": [
    "createTestCollection(1000)"
   ]
  },
  {
   "cell_type": "markdown",
   "metadata": {},
   "source": [
    "Prueba de diferentes intervalos de bloque para un dataset de 100 elementos:"
   ]
  },
  {
   "cell_type": "code",
   "execution_count": 8,
   "metadata": {
    "scrolled": false
   },
   "outputs": [
    {
     "data": {
      "text/html": [
       "<div>\n",
       "<style scoped>\n",
       "    .dataframe tbody tr th:only-of-type {\n",
       "        vertical-align: middle;\n",
       "    }\n",
       "\n",
       "    .dataframe tbody tr th {\n",
       "        vertical-align: top;\n",
       "    }\n",
       "\n",
       "    .dataframe thead th {\n",
       "        text-align: right;\n",
       "    }\n",
       "</style>\n",
       "<table border=\"1\" class=\"dataframe\">\n",
       "  <thead>\n",
       "    <tr style=\"text-align: right;\">\n",
       "      <th></th>\n",
       "      <th>BATCH_INTERVAL</th>\n",
       "      <th>BLOCK_INTERVAL</th>\n",
       "      <th>PROCESSING_INTERVAL</th>\n",
       "      <th>TOTAL_BATCHES</th>\n",
       "      <th>TOTAL_DELAY</th>\n",
       "      <th>TOTAL_PROCESSING</th>\n",
       "      <th>TOTAL_RECORDS</th>\n",
       "      <th>AVERAGE_DELAY</th>\n",
       "      <th>AVERAGE_PROCESSING</th>\n",
       "      <th>AVERAGE_RECORDS</th>\n",
       "      <th>MAX_PROCESSING</th>\n",
       "      <th>MAX_DELAY</th>\n",
       "    </tr>\n",
       "  </thead>\n",
       "  <tbody>\n",
       "    <tr>\n",
       "      <th>0</th>\n",
       "      <td>1000</td>\n",
       "      <td>100</td>\n",
       "      <td>1002</td>\n",
       "      <td>1</td>\n",
       "      <td>385</td>\n",
       "      <td>384</td>\n",
       "      <td>100</td>\n",
       "      <td>385</td>\n",
       "      <td>384</td>\n",
       "      <td>100</td>\n",
       "      <td>384</td>\n",
       "      <td>385</td>\n",
       "    </tr>\n",
       "  </tbody>\n",
       "</table>\n",
       "</div>"
      ],
      "text/plain": [
       "   BATCH_INTERVAL  BLOCK_INTERVAL  PROCESSING_INTERVAL  TOTAL_BATCHES  \\\n",
       "0            1000             100                 1002              1   \n",
       "\n",
       "   TOTAL_DELAY  TOTAL_PROCESSING  TOTAL_RECORDS  AVERAGE_DELAY  \\\n",
       "0          385               384            100            385   \n",
       "\n",
       "   AVERAGE_PROCESSING  AVERAGE_RECORDS  MAX_PROCESSING  MAX_DELAY  \n",
       "0                 384              100             384        385  "
      ]
     },
     "metadata": {},
     "output_type": "display_data"
    },
    {
     "data": {
      "text/html": [
       "<div>\n",
       "<style scoped>\n",
       "    .dataframe tbody tr th:only-of-type {\n",
       "        vertical-align: middle;\n",
       "    }\n",
       "\n",
       "    .dataframe tbody tr th {\n",
       "        vertical-align: top;\n",
       "    }\n",
       "\n",
       "    .dataframe thead th {\n",
       "        text-align: right;\n",
       "    }\n",
       "</style>\n",
       "<table border=\"1\" class=\"dataframe\">\n",
       "  <thead>\n",
       "    <tr style=\"text-align: right;\">\n",
       "      <th></th>\n",
       "      <th>BATCH_INTERVAL</th>\n",
       "      <th>BLOCK_INTERVAL</th>\n",
       "      <th>PROCESSING_INTERVAL</th>\n",
       "      <th>TOTAL_BATCHES</th>\n",
       "      <th>TOTAL_DELAY</th>\n",
       "      <th>TOTAL_PROCESSING</th>\n",
       "      <th>TOTAL_RECORDS</th>\n",
       "      <th>AVERAGE_DELAY</th>\n",
       "      <th>AVERAGE_PROCESSING</th>\n",
       "      <th>AVERAGE_RECORDS</th>\n",
       "      <th>MAX_PROCESSING</th>\n",
       "      <th>MAX_DELAY</th>\n",
       "    </tr>\n",
       "  </thead>\n",
       "  <tbody>\n",
       "    <tr>\n",
       "      <th>0</th>\n",
       "      <td>1000</td>\n",
       "      <td>200</td>\n",
       "      <td>1995</td>\n",
       "      <td>2</td>\n",
       "      <td>410</td>\n",
       "      <td>404</td>\n",
       "      <td>100</td>\n",
       "      <td>205</td>\n",
       "      <td>202</td>\n",
       "      <td>50</td>\n",
       "      <td>333</td>\n",
       "      <td>334</td>\n",
       "    </tr>\n",
       "  </tbody>\n",
       "</table>\n",
       "</div>"
      ],
      "text/plain": [
       "   BATCH_INTERVAL  BLOCK_INTERVAL  PROCESSING_INTERVAL  TOTAL_BATCHES  \\\n",
       "0            1000             200                 1995              2   \n",
       "\n",
       "   TOTAL_DELAY  TOTAL_PROCESSING  TOTAL_RECORDS  AVERAGE_DELAY  \\\n",
       "0          410               404            100            205   \n",
       "\n",
       "   AVERAGE_PROCESSING  AVERAGE_RECORDS  MAX_PROCESSING  MAX_DELAY  \n",
       "0                 202               50             333        334  "
      ]
     },
     "metadata": {},
     "output_type": "display_data"
    },
    {
     "data": {
      "text/html": [
       "<div>\n",
       "<style scoped>\n",
       "    .dataframe tbody tr th:only-of-type {\n",
       "        vertical-align: middle;\n",
       "    }\n",
       "\n",
       "    .dataframe tbody tr th {\n",
       "        vertical-align: top;\n",
       "    }\n",
       "\n",
       "    .dataframe thead th {\n",
       "        text-align: right;\n",
       "    }\n",
       "</style>\n",
       "<table border=\"1\" class=\"dataframe\">\n",
       "  <thead>\n",
       "    <tr style=\"text-align: right;\">\n",
       "      <th></th>\n",
       "      <th>BATCH_INTERVAL</th>\n",
       "      <th>BLOCK_INTERVAL</th>\n",
       "      <th>PROCESSING_INTERVAL</th>\n",
       "      <th>TOTAL_BATCHES</th>\n",
       "      <th>TOTAL_DELAY</th>\n",
       "      <th>TOTAL_PROCESSING</th>\n",
       "      <th>TOTAL_RECORDS</th>\n",
       "      <th>AVERAGE_DELAY</th>\n",
       "      <th>AVERAGE_PROCESSING</th>\n",
       "      <th>AVERAGE_RECORDS</th>\n",
       "      <th>MAX_PROCESSING</th>\n",
       "      <th>MAX_DELAY</th>\n",
       "    </tr>\n",
       "  </thead>\n",
       "  <tbody>\n",
       "    <tr>\n",
       "      <th>0</th>\n",
       "      <td>1000</td>\n",
       "      <td>400</td>\n",
       "      <td>998</td>\n",
       "      <td>1</td>\n",
       "      <td>364</td>\n",
       "      <td>364</td>\n",
       "      <td>100</td>\n",
       "      <td>364</td>\n",
       "      <td>364</td>\n",
       "      <td>100</td>\n",
       "      <td>364</td>\n",
       "      <td>364</td>\n",
       "    </tr>\n",
       "  </tbody>\n",
       "</table>\n",
       "</div>"
      ],
      "text/plain": [
       "   BATCH_INTERVAL  BLOCK_INTERVAL  PROCESSING_INTERVAL  TOTAL_BATCHES  \\\n",
       "0            1000             400                  998              1   \n",
       "\n",
       "   TOTAL_DELAY  TOTAL_PROCESSING  TOTAL_RECORDS  AVERAGE_DELAY  \\\n",
       "0          364               364            100            364   \n",
       "\n",
       "   AVERAGE_PROCESSING  AVERAGE_RECORDS  MAX_PROCESSING  MAX_DELAY  \n",
       "0                 364              100             364        364  "
      ]
     },
     "metadata": {},
     "output_type": "display_data"
    },
    {
     "data": {
      "text/html": [
       "<div>\n",
       "<style scoped>\n",
       "    .dataframe tbody tr th:only-of-type {\n",
       "        vertical-align: middle;\n",
       "    }\n",
       "\n",
       "    .dataframe tbody tr th {\n",
       "        vertical-align: top;\n",
       "    }\n",
       "\n",
       "    .dataframe thead th {\n",
       "        text-align: right;\n",
       "    }\n",
       "</style>\n",
       "<table border=\"1\" class=\"dataframe\">\n",
       "  <thead>\n",
       "    <tr style=\"text-align: right;\">\n",
       "      <th></th>\n",
       "      <th>BATCH_INTERVAL</th>\n",
       "      <th>BLOCK_INTERVAL</th>\n",
       "      <th>PROCESSING_INTERVAL</th>\n",
       "      <th>TOTAL_BATCHES</th>\n",
       "      <th>TOTAL_DELAY</th>\n",
       "      <th>TOTAL_PROCESSING</th>\n",
       "      <th>TOTAL_RECORDS</th>\n",
       "      <th>AVERAGE_DELAY</th>\n",
       "      <th>AVERAGE_PROCESSING</th>\n",
       "      <th>AVERAGE_RECORDS</th>\n",
       "      <th>MAX_PROCESSING</th>\n",
       "      <th>MAX_DELAY</th>\n",
       "    </tr>\n",
       "  </thead>\n",
       "  <tbody>\n",
       "    <tr>\n",
       "      <th>0</th>\n",
       "      <td>1000</td>\n",
       "      <td>600</td>\n",
       "      <td>1000</td>\n",
       "      <td>1</td>\n",
       "      <td>407</td>\n",
       "      <td>402</td>\n",
       "      <td>100</td>\n",
       "      <td>407</td>\n",
       "      <td>402</td>\n",
       "      <td>100</td>\n",
       "      <td>402</td>\n",
       "      <td>407</td>\n",
       "    </tr>\n",
       "  </tbody>\n",
       "</table>\n",
       "</div>"
      ],
      "text/plain": [
       "   BATCH_INTERVAL  BLOCK_INTERVAL  PROCESSING_INTERVAL  TOTAL_BATCHES  \\\n",
       "0            1000             600                 1000              1   \n",
       "\n",
       "   TOTAL_DELAY  TOTAL_PROCESSING  TOTAL_RECORDS  AVERAGE_DELAY  \\\n",
       "0          407               402            100            407   \n",
       "\n",
       "   AVERAGE_PROCESSING  AVERAGE_RECORDS  MAX_PROCESSING  MAX_DELAY  \n",
       "0                 402              100             402        407  "
      ]
     },
     "metadata": {},
     "output_type": "display_data"
    },
    {
     "data": {
      "text/html": [
       "<div>\n",
       "<style scoped>\n",
       "    .dataframe tbody tr th:only-of-type {\n",
       "        vertical-align: middle;\n",
       "    }\n",
       "\n",
       "    .dataframe tbody tr th {\n",
       "        vertical-align: top;\n",
       "    }\n",
       "\n",
       "    .dataframe thead th {\n",
       "        text-align: right;\n",
       "    }\n",
       "</style>\n",
       "<table border=\"1\" class=\"dataframe\">\n",
       "  <thead>\n",
       "    <tr style=\"text-align: right;\">\n",
       "      <th></th>\n",
       "      <th>BATCH_INTERVAL</th>\n",
       "      <th>BLOCK_INTERVAL</th>\n",
       "      <th>PROCESSING_INTERVAL</th>\n",
       "      <th>TOTAL_BATCHES</th>\n",
       "      <th>TOTAL_DELAY</th>\n",
       "      <th>TOTAL_PROCESSING</th>\n",
       "      <th>TOTAL_RECORDS</th>\n",
       "      <th>AVERAGE_DELAY</th>\n",
       "      <th>AVERAGE_PROCESSING</th>\n",
       "      <th>AVERAGE_RECORDS</th>\n",
       "      <th>MAX_PROCESSING</th>\n",
       "      <th>MAX_DELAY</th>\n",
       "    </tr>\n",
       "  </thead>\n",
       "  <tbody>\n",
       "    <tr>\n",
       "      <th>0</th>\n",
       "      <td>1000</td>\n",
       "      <td>800</td>\n",
       "      <td>993</td>\n",
       "      <td>1</td>\n",
       "      <td>355</td>\n",
       "      <td>354</td>\n",
       "      <td>100</td>\n",
       "      <td>355</td>\n",
       "      <td>354</td>\n",
       "      <td>100</td>\n",
       "      <td>354</td>\n",
       "      <td>355</td>\n",
       "    </tr>\n",
       "  </tbody>\n",
       "</table>\n",
       "</div>"
      ],
      "text/plain": [
       "   BATCH_INTERVAL  BLOCK_INTERVAL  PROCESSING_INTERVAL  TOTAL_BATCHES  \\\n",
       "0            1000             800                  993              1   \n",
       "\n",
       "   TOTAL_DELAY  TOTAL_PROCESSING  TOTAL_RECORDS  AVERAGE_DELAY  \\\n",
       "0          355               354            100            355   \n",
       "\n",
       "   AVERAGE_PROCESSING  AVERAGE_RECORDS  MAX_PROCESSING  MAX_DELAY  \n",
       "0                 354              100             354        355  "
      ]
     },
     "metadata": {},
     "output_type": "display_data"
    },
    {
     "data": {
      "text/html": [
       "<div>\n",
       "<style scoped>\n",
       "    .dataframe tbody tr th:only-of-type {\n",
       "        vertical-align: middle;\n",
       "    }\n",
       "\n",
       "    .dataframe tbody tr th {\n",
       "        vertical-align: top;\n",
       "    }\n",
       "\n",
       "    .dataframe thead th {\n",
       "        text-align: right;\n",
       "    }\n",
       "</style>\n",
       "<table border=\"1\" class=\"dataframe\">\n",
       "  <thead>\n",
       "    <tr style=\"text-align: right;\">\n",
       "      <th></th>\n",
       "      <th>BATCH_INTERVAL</th>\n",
       "      <th>BLOCK_INTERVAL</th>\n",
       "      <th>PROCESSING_INTERVAL</th>\n",
       "      <th>TOTAL_BATCHES</th>\n",
       "      <th>TOTAL_DELAY</th>\n",
       "      <th>TOTAL_PROCESSING</th>\n",
       "      <th>TOTAL_RECORDS</th>\n",
       "      <th>AVERAGE_DELAY</th>\n",
       "      <th>AVERAGE_PROCESSING</th>\n",
       "      <th>AVERAGE_RECORDS</th>\n",
       "      <th>MAX_PROCESSING</th>\n",
       "      <th>MAX_DELAY</th>\n",
       "    </tr>\n",
       "  </thead>\n",
       "  <tbody>\n",
       "    <tr>\n",
       "      <th>0</th>\n",
       "      <td>1000</td>\n",
       "      <td>1000</td>\n",
       "      <td>995</td>\n",
       "      <td>1</td>\n",
       "      <td>568</td>\n",
       "      <td>566</td>\n",
       "      <td>100</td>\n",
       "      <td>568</td>\n",
       "      <td>566</td>\n",
       "      <td>100</td>\n",
       "      <td>566</td>\n",
       "      <td>568</td>\n",
       "    </tr>\n",
       "  </tbody>\n",
       "</table>\n",
       "</div>"
      ],
      "text/plain": [
       "   BATCH_INTERVAL  BLOCK_INTERVAL  PROCESSING_INTERVAL  TOTAL_BATCHES  \\\n",
       "0            1000            1000                  995              1   \n",
       "\n",
       "   TOTAL_DELAY  TOTAL_PROCESSING  TOTAL_RECORDS  AVERAGE_DELAY  \\\n",
       "0          568               566            100            568   \n",
       "\n",
       "   AVERAGE_PROCESSING  AVERAGE_RECORDS  MAX_PROCESSING  MAX_DELAY  \n",
       "0                 566              100             566        568  "
      ]
     },
     "metadata": {},
     "output_type": "display_data"
    }
   ],
   "source": [
    "results = pd.DataFrame()\n",
    "for block in [100, 200, 400, 600, 800, 1000]:\n",
    "    df = benchmark(interval=1000, block=block, elements=100, entities=2, versions=2, depth=4, fields=2)\n",
    "    display(df)\n",
    "    df.to_csv(\"block-\"+str(block)+\".csv\")"
   ]
  },
  {
   "cell_type": "markdown",
   "metadata": {},
   "source": [
    "Prueba de diferentes intervalos de batch para un dataset de 1000000 elementos:"
   ]
  },
  {
   "cell_type": "code",
   "execution_count": 12,
   "metadata": {},
   "outputs": [
    {
     "data": {
      "text/html": [
       "<div>\n",
       "<style scoped>\n",
       "    .dataframe tbody tr th:only-of-type {\n",
       "        vertical-align: middle;\n",
       "    }\n",
       "\n",
       "    .dataframe tbody tr th {\n",
       "        vertical-align: top;\n",
       "    }\n",
       "\n",
       "    .dataframe thead th {\n",
       "        text-align: right;\n",
       "    }\n",
       "</style>\n",
       "<table border=\"1\" class=\"dataframe\">\n",
       "  <thead>\n",
       "    <tr style=\"text-align: right;\">\n",
       "      <th></th>\n",
       "      <th>BATCH_INTERVAL</th>\n",
       "      <th>BLOCK_INTERVAL</th>\n",
       "      <th>PROCESSING_INTERVAL</th>\n",
       "      <th>TOTAL_BATCHES</th>\n",
       "      <th>TOTAL_DELAY</th>\n",
       "      <th>TOTAL_PROCESSING</th>\n",
       "      <th>TOTAL_RECORDS</th>\n",
       "      <th>AVERAGE_DELAY</th>\n",
       "      <th>AVERAGE_PROCESSING</th>\n",
       "      <th>AVERAGE_RECORDS</th>\n",
       "      <th>MAX_PROCESSING</th>\n",
       "      <th>MAX_DELAY</th>\n",
       "    </tr>\n",
       "  </thead>\n",
       "  <tbody>\n",
       "    <tr>\n",
       "      <th>0</th>\n",
       "      <td>3000</td>\n",
       "      <td>200</td>\n",
       "      <td>95941</td>\n",
       "      <td>32</td>\n",
       "      <td>229272</td>\n",
       "      <td>76298</td>\n",
       "      <td>702266</td>\n",
       "      <td>7164</td>\n",
       "      <td>2384</td>\n",
       "      <td>21945</td>\n",
       "      <td>33213</td>\n",
       "      <td>33216</td>\n",
       "    </tr>\n",
       "  </tbody>\n",
       "</table>\n",
       "</div>"
      ],
      "text/plain": [
       "   BATCH_INTERVAL  BLOCK_INTERVAL  PROCESSING_INTERVAL  TOTAL_BATCHES  \\\n",
       "0            3000             200                95941             32   \n",
       "\n",
       "   TOTAL_DELAY  TOTAL_PROCESSING  TOTAL_RECORDS  AVERAGE_DELAY  \\\n",
       "0       229272             76298         702266           7164   \n",
       "\n",
       "   AVERAGE_PROCESSING  AVERAGE_RECORDS  MAX_PROCESSING  MAX_DELAY  \n",
       "0                2384            21945           33213      33216  "
      ]
     },
     "metadata": {},
     "output_type": "display_data"
    }
   ],
   "source": [
    "results = pd.DataFrame()\n",
    "for batch in [3000]:\n",
    "    df = benchmark(interval=batch, block=200, elements=1000000, entities=2, versions=2, depth=4, fields=2)\n",
    "    display(df)\n",
    "    df.to_csv(\"interval-\"+str(batch)+\".csv\")"
   ]
  }
 ],
 "metadata": {
  "kernelspec": {
   "display_name": "Python 2",
   "language": "python",
   "name": "python2"
  },
  "language_info": {
   "codemirror_mode": {
    "name": "ipython",
    "version": 2
   },
   "file_extension": ".py",
   "mimetype": "text/x-python",
   "name": "python",
   "nbconvert_exporter": "python",
   "pygments_lexer": "ipython2",
   "version": "2.7.14"
  }
 },
 "nbformat": 4,
 "nbformat_minor": 2
}
