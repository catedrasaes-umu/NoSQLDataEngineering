{
 "cells": [
  {
   "cell_type": "code",
   "execution_count": null,
   "metadata": {},
   "outputs": [],
   "source": [
    "from charts.GanttChart import GanttChart"
   ]
  },
  {
   "cell_type": "code",
   "execution_count": null,
   "metadata": {},
   "outputs": [],
   "source": [
    "CSV_ROUTE = \"../../output/stackoverflow/stackoverflow.csv\"\n",
    "chartCreator = GanttChart(CSV_ROUTE)\n",
    "chartCreator.showCharts()"
   ]
  },
  {
   "cell_type": "code",
   "execution_count": null,
   "metadata": {},
   "outputs": [],
   "source": [
    "from pprint import pprint as pp\n",
    "import pandas as pd\n",
    "import matplotlib.pyplot as plt\n",
    "import matplotlib\n",
    "\n",
    "%matplotlib inline\n",
    "matplotlib.style.use('seaborn')"
   ]
  },
  {
   "cell_type": "code",
   "execution_count": null,
   "metadata": {},
   "outputs": [],
   "source": [
    "rpd = pd.read_csv(\"../../output/reddit/reddit.csv\")\n",
    "rpdOK = pd.read_csv(\"../../output/reddit/reddit_livevars.csv\")\n",
    "rpdOUT = pd.read_csv(\"../../output/reddit/reddit_outliers.csv\")"
   ]
  },
  {
   "cell_type": "code",
   "execution_count": null,
   "metadata": {},
   "outputs": [],
   "source": [
    "rpd.head()"
   ]
  },
  {
   "cell_type": "code",
   "execution_count": null,
   "metadata": {},
   "outputs": [],
   "source": [
    "import datetime\n",
    "for i in (rpd,rpdOK,rpdOUT):\n",
    "    i.firstTimestamp = i.firstTimestamp.apply(lambda t : datetime.datetime.fromtimestamp(t).date())\n",
    "    i.lastTimestamp = i.lastTimestamp.apply(lambda t : datetime.datetime.fromtimestamp(t).date())\n",
    "    i.variationId = i.variationId.astype('int32')"
   ]
  },
  {
   "cell_type": "code",
   "execution_count": null,
   "metadata": {},
   "outputs": [],
   "source": [
    "rpd.head()"
   ]
  },
  {
   "cell_type": "code",
   "execution_count": null,
   "metadata": {},
   "outputs": [],
   "source": [
    "def calc_date_range(df):\n",
    "    return pd.date_range(df.firstTimestamp,df.lastTimestamp)\n",
    "\n",
    "rpd[\"timespan\"] = rpd.apply(calc_date_range,axis=1)"
   ]
  },
  {
   "cell_type": "code",
   "execution_count": null,
   "metadata": {},
   "outputs": [],
   "source": [
    "rpd.groupby(by=[\"entityName\",\"variationId\"])\n",
    "\n",
    "timespanIndex = pd.date_range(rpd.firstTimestamp.min(),rpd.lastTimestamp.max())"
   ]
  },
  {
   "cell_type": "code",
   "execution_count": null,
   "metadata": {},
   "outputs": [],
   "source": [
    "timespanIndex"
   ]
  },
  {
   "cell_type": "code",
   "execution_count": null,
   "metadata": {},
   "outputs": [],
   "source": [
    "opd = pd.concat(\n",
    "    [pd.Series(i, q,name = \"Comments_{}\".format(i)) for i,q in rpd[rpd.entityName == \"Comments\"]['timespan'].iteritems()],\n",
    "#    [pd.Series(1,\n",
    "#                           pd.date_range(rpd.firstTimestamp.min(),rpd.lastTimestamp.max()),\n",
    "#                           name=\"Comments_1\"\n",
    "#                          )],\n",
    "    axis=1)\n",
    "#opd.set_index(timespanIndex)\n",
    "opd.head()"
   ]
  },
  {
   "cell_type": "code",
   "execution_count": null,
   "metadata": {},
   "outputs": [],
   "source": [
    "opd.plot(lw=10,figsize=(14,14*2/3))"
   ]
  },
  {
   "cell_type": "code",
   "execution_count": null,
   "metadata": {},
   "outputs": [],
   "source": [
    "list(rpd[rpd.entityName == \"Comments\"]['timespan'].iteritems())"
   ]
  },
  {
   "cell_type": "code",
   "execution_count": null,
   "metadata": {},
   "outputs": [],
   "source": [
    "rpd.set_index(timespanIndex)"
   ]
  },
  {
   "cell_type": "code",
   "execution_count": null,
   "metadata": {},
   "outputs": [],
   "source": []
  }
 ],
 "metadata": {
  "kernelspec": {
   "display_name": "Python 3",
   "language": "python",
   "name": "python3"
  },
  "language_info": {
   "codemirror_mode": {
    "name": "ipython",
    "version": 3
   },
   "file_extension": ".py",
   "mimetype": "text/x-python",
   "name": "python",
   "nbconvert_exporter": "python",
   "pygments_lexer": "ipython3",
   "version": "3.6.8"
  }
 },
 "nbformat": 4,
 "nbformat_minor": 2
}
